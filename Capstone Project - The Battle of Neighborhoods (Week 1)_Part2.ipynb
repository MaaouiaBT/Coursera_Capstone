{
 "cells": [
  {
   "cell_type": "markdown",
   "metadata": {},
   "source": [
    "# Capstone Project - The Battle of Neighborhoods:  (Week1): Part2"
   ]
  },
  {
   "cell_type": "markdown",
   "metadata": {},
   "source": [
    "<a id='item1'></a>"
   ]
  },
  {
   "cell_type": "markdown",
   "metadata": {},
   "source": [
    "## 1. Data Collection : Initial dataset"
   ]
  },
  {
   "cell_type": "markdown",
   "metadata": {},
   "source": [
    "Paris has a total of 20 boroughs and 80 neighborhoods. In order to segement the neighborhoods and explore them, we will essentially need a dataset that contains the 20 boroughs and the neighborhoods that exist in each borough as well as the the latitude and logitude coordinates of each neighborhood. "
   ]
  },
  {
   "cell_type": "markdown",
   "metadata": {},
   "source": [
    "This dataset exists for free on the web.Here is the link to the dataset: https://www.data.gouv.fr/fr/datasets/quartiers-administratifs/quartier_paris.csv"
   ]
  },
  {
   "cell_type": "markdown",
   "metadata": {},
   "source": [
    "### Data Cleaning"
   ]
  },
  {
   "cell_type": "markdown",
   "metadata": {},
   "source": [
    "Let's take a quick look at the initial dataset."
   ]
  },
  {
   "cell_type": "code",
   "execution_count": 5,
   "metadata": {},
   "outputs": [
    {
     "data": {
      "text/html": [
       "<div>\n",
       "<style scoped>\n",
       "    .dataframe tbody tr th:only-of-type {\n",
       "        vertical-align: middle;\n",
       "    }\n",
       "\n",
       "    .dataframe tbody tr th {\n",
       "        vertical-align: top;\n",
       "    }\n",
       "\n",
       "    .dataframe thead th {\n",
       "        text-align: right;\n",
       "    }\n",
       "</style>\n",
       "<table border=\"1\" class=\"dataframe\">\n",
       "  <thead>\n",
       "    <tr style=\"text-align: right;\">\n",
       "      <th></th>\n",
       "      <th>N_SQ_QU</th>\n",
       "      <th>C_QU</th>\n",
       "      <th>C_QUINSEE</th>\n",
       "      <th>Neighborhood</th>\n",
       "      <th>Borough</th>\n",
       "      <th>N_SQ_AR</th>\n",
       "      <th>PERIMETRE</th>\n",
       "      <th>SURFACE</th>\n",
       "      <th>Geometry X Y</th>\n",
       "      <th>Geometry</th>\n",
       "      <th>Longitude</th>\n",
       "      <th>Latitude</th>\n",
       "    </tr>\n",
       "  </thead>\n",
       "  <tbody>\n",
       "    <tr>\n",
       "      <th>0</th>\n",
       "      <td>750000036</td>\n",
       "      <td>36</td>\n",
       "      <td>7510904</td>\n",
       "      <td>Rochechouart</td>\n",
       "      <td>9</td>\n",
       "      <td>750000009</td>\n",
       "      <td>2862.450525</td>\n",
       "      <td>5.004354e+05</td>\n",
       "      <td>48.8798119198,2.344861291</td>\n",
       "      <td>{\"type\": \"Polygon\", \"coordinates\": [[[2.349708...</td>\n",
       "      <td>2.344861</td>\n",
       "      <td>48.879812</td>\n",
       "    </tr>\n",
       "    <tr>\n",
       "      <th>1</th>\n",
       "      <td>750000047</td>\n",
       "      <td>47</td>\n",
       "      <td>7511203</td>\n",
       "      <td>Bercy</td>\n",
       "      <td>12</td>\n",
       "      <td>750000012</td>\n",
       "      <td>6155.005036</td>\n",
       "      <td>1.902932e+06</td>\n",
       "      <td>48.8352090499,2.38621008421</td>\n",
       "      <td>{\"type\": \"Polygon\", \"coordinates\": [[[2.391141...</td>\n",
       "      <td>2.386210</td>\n",
       "      <td>48.835209</td>\n",
       "    </tr>\n",
       "    <tr>\n",
       "      <th>2</th>\n",
       "      <td>750000002</td>\n",
       "      <td>2</td>\n",
       "      <td>7510102</td>\n",
       "      <td>Halles</td>\n",
       "      <td>1</td>\n",
       "      <td>750000001</td>\n",
       "      <td>2606.417128</td>\n",
       "      <td>4.124585e+05</td>\n",
       "      <td>48.8622891081,2.34489885831</td>\n",
       "      <td>{\"type\": \"Polygon\", \"coordinates\": [[[2.349365...</td>\n",
       "      <td>2.344899</td>\n",
       "      <td>48.862289</td>\n",
       "    </tr>\n",
       "    <tr>\n",
       "      <th>3</th>\n",
       "      <td>750000015</td>\n",
       "      <td>15</td>\n",
       "      <td>7510403</td>\n",
       "      <td>Arsenal</td>\n",
       "      <td>4</td>\n",
       "      <td>750000004</td>\n",
       "      <td>2878.559656</td>\n",
       "      <td>4.872649e+05</td>\n",
       "      <td>48.851585175,2.36476795387</td>\n",
       "      <td>{\"type\": \"Polygon\", \"coordinates\": [[[2.368512...</td>\n",
       "      <td>2.364768</td>\n",
       "      <td>48.851585</td>\n",
       "    </tr>\n",
       "    <tr>\n",
       "      <th>4</th>\n",
       "      <td>750000018</td>\n",
       "      <td>18</td>\n",
       "      <td>7510502</td>\n",
       "      <td>Jardin-des-Plantes</td>\n",
       "      <td>5</td>\n",
       "      <td>750000005</td>\n",
       "      <td>4052.729521</td>\n",
       "      <td>7.983894e+05</td>\n",
       "      <td>48.8419401934,2.35689388962</td>\n",
       "      <td>{\"type\": \"Polygon\", \"coordinates\": [[[2.364561...</td>\n",
       "      <td>2.356894</td>\n",
       "      <td>48.841940</td>\n",
       "    </tr>\n",
       "  </tbody>\n",
       "</table>\n",
       "</div>"
      ],
      "text/plain": [
       "     N_SQ_QU  C_QU  C_QUINSEE        Neighborhood  Borough    N_SQ_AR  \\\n",
       "0  750000036    36    7510904        Rochechouart        9  750000009   \n",
       "1  750000047    47    7511203               Bercy       12  750000012   \n",
       "2  750000002     2    7510102              Halles        1  750000001   \n",
       "3  750000015    15    7510403             Arsenal        4  750000004   \n",
       "4  750000018    18    7510502  Jardin-des-Plantes        5  750000005   \n",
       "\n",
       "     PERIMETRE       SURFACE                 Geometry X Y  \\\n",
       "0  2862.450525  5.004354e+05    48.8798119198,2.344861291   \n",
       "1  6155.005036  1.902932e+06  48.8352090499,2.38621008421   \n",
       "2  2606.417128  4.124585e+05  48.8622891081,2.34489885831   \n",
       "3  2878.559656  4.872649e+05   48.851585175,2.36476795387   \n",
       "4  4052.729521  7.983894e+05  48.8419401934,2.35689388962   \n",
       "\n",
       "                                            Geometry  Longitude   Latitude  \n",
       "0  {\"type\": \"Polygon\", \"coordinates\": [[[2.349708...   2.344861  48.879812  \n",
       "1  {\"type\": \"Polygon\", \"coordinates\": [[[2.391141...   2.386210  48.835209  \n",
       "2  {\"type\": \"Polygon\", \"coordinates\": [[[2.349365...   2.344899  48.862289  \n",
       "3  {\"type\": \"Polygon\", \"coordinates\": [[[2.368512...   2.364768  48.851585  \n",
       "4  {\"type\": \"Polygon\", \"coordinates\": [[[2.364561...   2.356894  48.841940  "
      ]
     },
     "execution_count": 5,
     "metadata": {},
     "output_type": "execute_result"
    }
   ],
   "source": [
    "df.head()"
   ]
  },
  {
   "cell_type": "markdown",
   "metadata": {},
   "source": [
    "**Below the initial dataset after data cleaning:**"
   ]
  },
  {
   "cell_type": "code",
   "execution_count": 8,
   "metadata": {},
   "outputs": [
    {
     "data": {
      "text/html": [
       "<div>\n",
       "<style scoped>\n",
       "    .dataframe tbody tr th:only-of-type {\n",
       "        vertical-align: middle;\n",
       "    }\n",
       "\n",
       "    .dataframe tbody tr th {\n",
       "        vertical-align: top;\n",
       "    }\n",
       "\n",
       "    .dataframe thead th {\n",
       "        text-align: right;\n",
       "    }\n",
       "</style>\n",
       "<table border=\"1\" class=\"dataframe\">\n",
       "  <thead>\n",
       "    <tr style=\"text-align: right;\">\n",
       "      <th></th>\n",
       "      <th>Borough</th>\n",
       "      <th>Neighborhood</th>\n",
       "      <th>Latitude</th>\n",
       "      <th>Longitude</th>\n",
       "    </tr>\n",
       "  </thead>\n",
       "  <tbody>\n",
       "    <tr>\n",
       "      <th>0</th>\n",
       "      <td>9</td>\n",
       "      <td>Rochechouart</td>\n",
       "      <td>48.879812</td>\n",
       "      <td>2.344861</td>\n",
       "    </tr>\n",
       "    <tr>\n",
       "      <th>1</th>\n",
       "      <td>12</td>\n",
       "      <td>Bercy</td>\n",
       "      <td>48.835209</td>\n",
       "      <td>2.386210</td>\n",
       "    </tr>\n",
       "    <tr>\n",
       "      <th>2</th>\n",
       "      <td>1</td>\n",
       "      <td>Halles</td>\n",
       "      <td>48.862289</td>\n",
       "      <td>2.344899</td>\n",
       "    </tr>\n",
       "    <tr>\n",
       "      <th>3</th>\n",
       "      <td>4</td>\n",
       "      <td>Arsenal</td>\n",
       "      <td>48.851585</td>\n",
       "      <td>2.364768</td>\n",
       "    </tr>\n",
       "    <tr>\n",
       "      <th>4</th>\n",
       "      <td>5</td>\n",
       "      <td>Jardin-des-Plantes</td>\n",
       "      <td>48.841940</td>\n",
       "      <td>2.356894</td>\n",
       "    </tr>\n",
       "  </tbody>\n",
       "</table>\n",
       "</div>"
      ],
      "text/plain": [
       "   Borough        Neighborhood   Latitude  Longitude\n",
       "0        9        Rochechouart  48.879812   2.344861\n",
       "1       12               Bercy  48.835209   2.386210\n",
       "2        1              Halles  48.862289   2.344899\n",
       "3        4             Arsenal  48.851585   2.364768\n",
       "4        5  Jardin-des-Plantes  48.841940   2.356894"
      ]
     },
     "execution_count": 8,
     "metadata": {},
     "output_type": "execute_result"
    }
   ],
   "source": [
    "neighborhoods.head()"
   ]
  },
  {
   "cell_type": "markdown",
   "metadata": {},
   "source": [
    "### Using Foursquare API to explore the neighborhood Restaurants"
   ]
  },
  {
   "cell_type": "markdown",
   "metadata": {},
   "source": [
    "Paris neighborhoods geographical coordinates data will be utilized as input for the Foursquare API, that will be leveraged to provision venues information for each.\n",
    "We will select only food category with the Id=4d4b7105d754a06374d81259.\n"
   ]
  },
  {
   "cell_type": "markdown",
   "metadata": {},
   "source": [
    "#### The final dataframe named as Paris_restaurants is structured as following:"
   ]
  },
  {
   "cell_type": "code",
   "execution_count": 23,
   "metadata": {},
   "outputs": [
    {
     "data": {
      "text/html": [
       "<div>\n",
       "<style scoped>\n",
       "    .dataframe tbody tr th:only-of-type {\n",
       "        vertical-align: middle;\n",
       "    }\n",
       "\n",
       "    .dataframe tbody tr th {\n",
       "        vertical-align: top;\n",
       "    }\n",
       "\n",
       "    .dataframe thead th {\n",
       "        text-align: right;\n",
       "    }\n",
       "</style>\n",
       "<table border=\"1\" class=\"dataframe\">\n",
       "  <thead>\n",
       "    <tr style=\"text-align: right;\">\n",
       "      <th></th>\n",
       "      <th>Neighborhood</th>\n",
       "      <th>Neighborhood Latitude</th>\n",
       "      <th>Neighborhood Longitude</th>\n",
       "      <th>Venue</th>\n",
       "      <th>Venue Latitude</th>\n",
       "      <th>Venue Longitude</th>\n",
       "      <th>Venue Category</th>\n",
       "    </tr>\n",
       "  </thead>\n",
       "  <tbody>\n",
       "    <tr>\n",
       "      <th>0</th>\n",
       "      <td>Rochechouart</td>\n",
       "      <td>48.879812</td>\n",
       "      <td>2.344861</td>\n",
       "      <td>Mamiche</td>\n",
       "      <td>48.880112</td>\n",
       "      <td>2.343699</td>\n",
       "      <td>Bakery</td>\n",
       "    </tr>\n",
       "    <tr>\n",
       "      <th>1</th>\n",
       "      <td>Rochechouart</td>\n",
       "      <td>48.879812</td>\n",
       "      <td>2.344861</td>\n",
       "      <td>Pizza di Loretta</td>\n",
       "      <td>48.880634</td>\n",
       "      <td>2.344011</td>\n",
       "      <td>Pizza Place</td>\n",
       "    </tr>\n",
       "    <tr>\n",
       "      <th>2</th>\n",
       "      <td>Rochechouart</td>\n",
       "      <td>48.879812</td>\n",
       "      <td>2.344861</td>\n",
       "      <td>Pain Pain</td>\n",
       "      <td>48.883651</td>\n",
       "      <td>2.339841</td>\n",
       "      <td>Bakery</td>\n",
       "    </tr>\n",
       "    <tr>\n",
       "      <th>3</th>\n",
       "      <td>Rochechouart</td>\n",
       "      <td>48.879812</td>\n",
       "      <td>2.344861</td>\n",
       "      <td>Lakshmi Bhavan</td>\n",
       "      <td>48.881077</td>\n",
       "      <td>2.344232</td>\n",
       "      <td>Indian Restaurant</td>\n",
       "    </tr>\n",
       "    <tr>\n",
       "      <th>4</th>\n",
       "      <td>Rochechouart</td>\n",
       "      <td>48.879812</td>\n",
       "      <td>2.344861</td>\n",
       "      <td>Corso Trudaine</td>\n",
       "      <td>48.881794</td>\n",
       "      <td>2.345264</td>\n",
       "      <td>Italian Restaurant</td>\n",
       "    </tr>\n",
       "  </tbody>\n",
       "</table>\n",
       "</div>"
      ],
      "text/plain": [
       "   Neighborhood  Neighborhood Latitude  Neighborhood Longitude  \\\n",
       "0  Rochechouart              48.879812                2.344861   \n",
       "1  Rochechouart              48.879812                2.344861   \n",
       "2  Rochechouart              48.879812                2.344861   \n",
       "3  Rochechouart              48.879812                2.344861   \n",
       "4  Rochechouart              48.879812                2.344861   \n",
       "\n",
       "              Venue  Venue Latitude  Venue Longitude      Venue Category  \n",
       "0           Mamiche       48.880112         2.343699              Bakery  \n",
       "1  Pizza di Loretta       48.880634         2.344011         Pizza Place  \n",
       "2         Pain Pain       48.883651         2.339841              Bakery  \n",
       "3    Lakshmi Bhavan       48.881077         2.344232   Indian Restaurant  \n",
       "4    Corso Trudaine       48.881794         2.345264  Italian Restaurant  "
      ]
     },
     "execution_count": 23,
     "metadata": {},
     "output_type": "execute_result"
    }
   ],
   "source": [
    "Paris_restaurants.head()"
   ]
  },
  {
   "cell_type": "markdown",
   "metadata": {},
   "source": [
    "**Later this dataframe will be clustered using k-means into 5 clusters for Paris restaurants further analysis.**"
   ]
  },
  {
   "cell_type": "code",
   "execution_count": null,
   "metadata": {},
   "outputs": [],
   "source": []
  }
 ],
 "metadata": {
  "kernelspec": {
   "display_name": "Python 3",
   "language": "python",
   "name": "python3"
  },
  "language_info": {
   "codemirror_mode": {
    "name": "ipython",
    "version": 3
   },
   "file_extension": ".py",
   "mimetype": "text/x-python",
   "name": "python",
   "nbconvert_exporter": "python",
   "pygments_lexer": "ipython3",
   "version": "3.7.3"
  },
  "widgets": {
   "state": {},
   "version": "1.1.2"
  }
 },
 "nbformat": 4,
 "nbformat_minor": 4
}
